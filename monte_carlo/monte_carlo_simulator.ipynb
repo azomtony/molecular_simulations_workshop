{
 "cells": [
  {
   "cell_type": "code",
   "execution_count": 54,
   "metadata": {},
   "outputs": [],
   "source": [
    "import numpy as np\n",
    "import warnings\n",
    "warnings.filterwarnings(\"ignore\",category=RuntimeWarning)"
   ]
  },
  {
   "cell_type": "markdown",
   "metadata": {},
   "source": [
    "# Lennard-Jones Potential\n",
    "$V_{\\text{LJ}}(r) = 4\\epsilon \\left[ \\left( \\frac{\\sigma}{r} \\right)^{12} - \\left( \\frac{\\sigma}{r} \\right)^{6} \\right] $\n",
    "\n",
    "\n",
    "\n"
   ]
  },
  {
   "cell_type": "code",
   "execution_count": 55,
   "metadata": {},
   "outputs": [],
   "source": [
    "# Function to calculate Lennard-Jones potential\n",
    "def lj_potential(r2, sigma, epsilon):\n",
    "    r2_inv = (sigma ** 2) / r2\n",
    "    r6_inv = r2_inv ** 3\n",
    "    r12_inv = r6_inv ** 2\n",
    "    return 4 * epsilon * (r12_inv - r6_inv)"
   ]
  },
  {
   "cell_type": "code",
   "execution_count": 56,
   "metadata": {},
   "outputs": [],
   "source": [
    "# Function to calculate the total potential energy of the system\n",
    "def total_energy(positions, num_particles, box_length, sigma, epsilon, r_cut):\n",
    "    energy = 0.0\n",
    "    for i in range(num_particles):\n",
    "        for j in range(i + 1, num_particles):\n",
    "            rij = positions[i] - positions[j]\n",
    "            rij = rij - box_length * np.rint(rij / box_length)  # Periodic boundary conditions\n",
    "            r2 = np.dot(rij, rij)\n",
    "            if r2 < r_cut ** 2:\n",
    "                energy += lj_potential(r2, sigma, epsilon)\n",
    "    return energy"
   ]
  },
  {
   "cell_type": "code",
   "execution_count": 57,
   "metadata": {},
   "outputs": [],
   "source": [
    "# Read initial positions from XYZ file\n",
    "def read_xyz(file):\n",
    "    with open(file, 'r') as f:\n",
    "        lines = f.readlines()\n",
    "        num_particles = int(lines[0])\n",
    "        atom_data = [line.split() for line in lines[2:2 + num_particles]]\n",
    "        atom_types = [data[0] for data in atom_data]\n",
    "        positions = np.array([[float(x) for x in data[1:4]] for data in atom_data])\n",
    "    return atom_types, positions"
   ]
  },
  {
   "cell_type": "code",
   "execution_count": 58,
   "metadata": {},
   "outputs": [],
   "source": [
    "# Write positions to XYZ file\n",
    "def write_xyz(file, atom_types, positions, step, energy):\n",
    "    num_particles = len(atom_types)\n",
    "    with open(file, 'a') as f:\n",
    "        f.write(f\"{num_particles}\\n\")\n",
    "        f.write(f\"Step {step}, Energy = {energy}\\n\")\n",
    "        for atom_type, pos in zip(atom_types, positions):\n",
    "            f.write(f\"{atom_type} {pos[0]:.6f} {pos[1]:.6f} {pos[2]:.6f}\\n\")\n"
   ]
  },
  {
   "cell_type": "code",
   "execution_count": 77,
   "metadata": {},
   "outputs": [],
   "source": [
    "# Lennard-Jones potential parameters for Argon\n",
    "sigma = 3.4  # in Angstroms\n",
    "epsilon = 0.238  # in kcal/mol\n",
    "\n",
    "# Simulation parameters\n",
    "temperature = 100.0  # Temperature in Kelvin\n",
    "r_cut = 2.5 * sigma  # Cutoff distance, scaled by sigma\n",
    "num_steps = 1000  # Number of Monte Carlo steps\n",
    "dr_max = 0.1 * sigma  # Maximum displacement, scaled by sigma\n",
    "box_length = 10.0  # Box dimension in Angstroms"
   ]
  },
  {
   "cell_type": "code",
   "execution_count": 78,
   "metadata": {},
   "outputs": [],
   "source": [
    "input_file = 'argons.xyz'\n",
    "output_file = 'trajectory_out.xyz'\n",
    "atom_types, positions = read_xyz(input_file)\n",
    "num_particles = len(atom_types)"
   ]
  },
  {
   "cell_type": "markdown",
   "metadata": {},
   "source": [
    "\n",
    "# Metropolis Criterion\n",
    "$\n",
    "\\text{Accept if } r < \\exp\\left( -\\frac{\\Delta E}{k_B T} \\right)\n",
    "$\n"
   ]
  },
  {
   "cell_type": "code",
   "execution_count": 79,
   "metadata": {},
   "outputs": [],
   "source": [
    "#Monte Carlo loop\n",
    "for step in range(1, num_steps + 1):\n",
    "    i = np.random.randint(num_particles)\n",
    "    old_position = positions[i].copy()\n",
    "    old_energy = total_energy(positions, num_particles, box_length, sigma, epsilon, r_cut)\n",
    "\n",
    "    # Trial move\n",
    "    positions[i] += dr_max * (np.random.rand(3) - 0.5)\n",
    "    positions[i] = positions[i] - box_length * np.rint(positions[i] / box_length)  # PBC\n",
    "\n",
    "    new_energy = total_energy(positions, num_particles, box_length, sigma, epsilon, r_cut)\n",
    "    delta_energy = new_energy - old_energy\n",
    "\n",
    "    # Metropolis criterion\n",
    "    if np.random.rand() < np.exp(-delta_energy / (1.38064852e-23 * temperature / 1.9872041e-3)):\n",
    "        energy = new_energy\n",
    "    else:\n",
    "        positions[i] = old_position  # Reject move\n",
    "\n",
    "    # Write positions to the output file after each step\n",
    "    if step%10==0:\n",
    "        write_xyz(output_file, atom_types, positions, step, energy)"
   ]
  },
  {
   "cell_type": "code",
   "execution_count": null,
   "metadata": {},
   "outputs": [],
   "source": [
    "#!conda install mdtraj nglview"
   ]
  },
  {
   "cell_type": "code",
   "execution_count": 86,
   "metadata": {},
   "outputs": [
    {
     "data": {
      "application/vnd.jupyter.widget-view+json": {
       "model_id": "fbbb5c830d5d4937b7b5ba5a19e386a2",
       "version_major": 2,
       "version_minor": 0
      },
      "text/plain": [
       "NGLWidget(max_frame=99)"
      ]
     },
     "metadata": {},
     "output_type": "display_data"
    }
   ],
   "source": [
    "import mdtraj as md\n",
    "import nglview as nv\n",
    "\n",
    "# Define the atom types as needed\n",
    "num_atoms = 35  # Replace with the actual number of atoms in your XYZ file\n",
    "atom_types = ['Ar'] * num_atoms  # Adjust this line if your atoms are different\n",
    "\n",
    "# Create a simple topology for the XYZ file\n",
    "top = md.Topology()\n",
    "chain = top.add_chain()\n",
    "residue = top.add_residue(\"RES\", chain)\n",
    "for atom_type in atom_types:\n",
    "    top.add_atom(atom_type, md.element.Element.getBySymbol(atom_type), residue)\n",
    "\n",
    "# Load the XYZ file with the created topology\n",
    "traj = md.load_xyz('trajectory_out.xyz', top=top)\n",
    "# Visualize the trajectory using nglview\n",
    "view = nv.show_mdtraj(traj)\n",
    "view.clear_representations()\n",
    "view.add_spacefill(radiusType='radius', radius=0.5)\n",
    "view\n"
   ]
  },
  {
   "cell_type": "markdown",
   "metadata": {},
   "source": [
    "# Average Potential Energy"
   ]
  },
  {
   "cell_type": "code",
   "execution_count": 87,
   "metadata": {},
   "outputs": [],
   "source": [
    "# Function to read XYZ file with multiple frames\n",
    "def read_xyz_multi_frame(file_path):\n",
    "    with open(file_path, 'r') as f:\n",
    "        lines = f.readlines()\n",
    "    \n",
    "    frames = []\n",
    "    i = 0\n",
    "    while i < len(lines):\n",
    "        num_particles = int(lines[i].strip())\n",
    "        positions = []\n",
    "        for line in lines[i+2:i+2+num_particles]:\n",
    "            _, x, y, z = line.split()\n",
    "            positions.append([float(x), float(y), float(z)])\n",
    "        positions = np.array(positions)\n",
    "        frames.append(positions)\n",
    "        i += num_particles + 2\n",
    "    \n",
    "    return frames, num_particles"
   ]
  },
  {
   "cell_type": "code",
   "execution_count": 88,
   "metadata": {},
   "outputs": [
    {
     "name": "stdout",
     "output_type": "stream",
     "text": [
      "Average potential energy per frame: 2436.0715\n"
     ]
    }
   ],
   "source": [
    "frames, num_particles = read_xyz_multi_frame(output_file)\n",
    "# Calculate the total potential energy for each frame\n",
    "energies = []\n",
    "for positions in frames:\n",
    "    total_potential_energy = total_energy(positions, num_particles, box_length, sigma, epsilon, r_cut)\n",
    "    energies.append(total_potential_energy)\n",
    "\n",
    "# Calculate the average potential energy per frame\n",
    "average_potential_energy_per_frame = np.mean(energies)\n",
    "\n",
    "print(f\"Average potential energy per frame: {average_potential_energy_per_frame:.4f}\")"
   ]
  },
  {
   "cell_type": "code",
   "execution_count": 89,
   "metadata": {},
   "outputs": [
    {
     "data": {
      "text/plain": [
       "[<matplotlib.lines.Line2D at 0x13e5023d0>]"
      ]
     },
     "execution_count": 89,
     "metadata": {},
     "output_type": "execute_result"
    },
    {
     "data": {
      "image/png": "[encoded data removed]",
      "text/plain": [
       "<Figure size 640x480 with 1 Axes>"
      ]
     },
     "metadata": {},
     "output_type": "display_data"
    }
   ],
   "source": [
    "import matplotlib.pyplot as plt\n",
    "plt.plot(energies)"
   ]
  },
  {
   "cell_type": "code",
   "execution_count": 90,
   "metadata": {},
   "outputs": [],
   "source": [
    "# Function to compute the distance between two points considering periodic boundary conditions\n",
    "def minimum_image_distance(r1, r2, box_length):\n",
    "    rij = r1 - r2\n",
    "    rij = rij - box_length * np.rint(rij / box_length)\n",
    "    return np.sqrt(np.dot(rij, rij))\n",
    "\n",
    "# Function to compute the closest distances for each particle\n",
    "def closest_distances(positions, num_particles, box_length):\n",
    "    closest_dist = []\n",
    "    for i in range(num_particles):\n",
    "        min_dist = np.inf\n",
    "        for j in range(num_particles):\n",
    "            if i != j:\n",
    "                dist = minimum_image_distance(positions[i], positions[j], box_length)\n",
    "                if dist < min_dist:\n",
    "                    min_dist = dist\n",
    "        closest_dist.append(min_dist)\n",
    "    return closest_dist"
   ]
  },
  {
   "cell_type": "code",
   "execution_count": 92,
   "metadata": {},
   "outputs": [
    {
     "name": "stderr",
     "output_type": "stream",
     "text": [
      "/var/folders/ld/nqh1nljd523g0lykfn_327t40000gn/T/ipykernel_47742/3125207288.py:9: UserWarning: \n",
      "\n",
      "`distplot` is a deprecated function and will be removed in seaborn v0.14.0.\n",
      "\n",
      "Please adapt your code to use either `displot` (a figure-level function with\n",
      "similar flexibility) or `histplot` (an axes-level function for histograms).\n",
      "\n",
      "For a guide to updating your code to use the new functions, please see\n",
      "https://gist.github.com/mwaskom/de44147ed2974457ad6372750bbe5751\n",
      "\n",
      "  sns.distplot(all_closest_distances)\n"
     ]
    },
    {
     "data": {
      "image/png": "[encoded data removed]",
      "text/plain": [
       "<Figure size 640x480 with 1 Axes>"
      ]
     },
     "metadata": {},
     "output_type": "display_data"
    }
   ],
   "source": [
    "# Calculate the closest distances for all frames\n",
    "all_closest_distances = []\n",
    "for positions in frames:\n",
    "    closest_dist = closest_distances(positions, num_particles, box_length)\n",
    "    all_closest_distances.extend(closest_dist)\n",
    "\n",
    "# Plot the distribution of the closest distances\n",
    "import seaborn as sns\n",
    "sns.distplot(all_closest_distances)\n",
    "plt.xlabel('Closest Distance')\n",
    "plt.ylabel('Density')\n",
    "plt.title('Distribution of Closest Distances in a Cluster')\n",
    "plt.show()"
   ]
  },
  {
   "cell_type": "code",
   "execution_count": null,
   "metadata": {},
   "outputs": [],
   "source": []
  }
 ],
 "metadata": {
  "kernelspec": {
   "display_name": "Python 3",
   "language": "python",
   "name": "python3"
  },
  "language_info": {
   "codemirror_mode": {
    "name": "ipython",
    "version": 3
   },
   "file_extension": ".py",
   "mimetype": "text/x-python",
   "name": "python",
   "nbconvert_exporter": "python",
   "pygments_lexer": "ipython3",
   "version": "3.9.18"
  }
 },
 "nbformat": 4,
 "nbformat_minor": 2
}
