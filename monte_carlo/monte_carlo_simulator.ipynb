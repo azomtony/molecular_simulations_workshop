{
 "cells": [
  {
   "cell_type": "code",
   "execution_count": 30,
   "metadata": {},
   "outputs": [],
   "source": [
    "import numpy as np\n",
    "import warnings\n",
    "warnings.filterwarnings(\"ignore\",category=RuntimeWarning)"
   ]
  },
  {
   "cell_type": "markdown",
   "metadata": {},
   "source": [
    "# Lennard-Jones Potential\n",
    "$V_{\\text{LJ}}(r) = 4\\epsilon \\left[ \\left( \\frac{\\sigma}{r} \\right)^{12} - \\left( \\frac{\\sigma}{r} \\right)^{6} \\right] $\n",
    "\n",
    "\n",
    "\n"
   ]
  },
  {
   "cell_type": "code",
   "execution_count": 31,
   "metadata": {},
   "outputs": [],
   "source": [
    "# Function to calculate Lennard-Jones potential\n",
    "def lj_potential(r2, sigma, epsilon):\n",
    "    r2_inv = (sigma ** 2) / r2\n",
    "    r6_inv = r2_inv ** 3\n",
    "    r12_inv = r6_inv ** 2\n",
    "    return 4 * epsilon * (r12_inv - r6_inv)"
   ]
  },
  {
   "cell_type": "code",
   "execution_count": 32,
   "metadata": {},
   "outputs": [],
   "source": [
    "# Function to calculate the total potential energy of the system\n",
    "def total_energy(positions, num_particles, box_length, sigma, epsilon, r_cut):\n",
    "    energy = 0.0\n",
    "    for i in range(num_particles):\n",
    "        for j in range(i + 1, num_particles):\n",
    "            rij = positions[i] - positions[j]\n",
    "            rij = rij - box_length * np.rint(rij / box_length)  # Periodic boundary conditions\n",
    "            r2 = np.dot(rij, rij)\n",
    "            if r2 < r_cut ** 2:\n",
    "                energy += lj_potential(r2, sigma, epsilon)\n",
    "    return energy"
   ]
  },
  {
   "cell_type": "code",
   "execution_count": 33,
   "metadata": {},
   "outputs": [],
   "source": [
    "# Read initial positions from XYZ file\n",
    "def read_xyz(file):\n",
    "    with open(file, 'r') as f:\n",
    "        lines = f.readlines()\n",
    "        num_particles = int(lines[0])\n",
    "        atom_data = [line.split() for line in lines[2:2 + num_particles]]\n",
    "        atom_types = [data[0] for data in atom_data]\n",
    "        positions = np.array([[float(x) for x in data[1:4]] for data in atom_data])\n",
    "    return atom_types, positions"
   ]
  },
  {
   "cell_type": "code",
   "execution_count": 34,
   "metadata": {},
   "outputs": [],
   "source": [
    "# Write positions to XYZ file\n",
    "def write_xyz(file, atom_types, positions, step, energy):\n",
    "    num_particles = len(atom_types)\n",
    "    with open(file, 'a') as f:\n",
    "        f.write(f\"{num_particles}\\n\")\n",
    "        f.write(f\"Step {step}, Energy = {energy}\\n\")\n",
    "        for atom_type, pos in zip(atom_types, positions):\n",
    "            f.write(f\"{atom_type} {pos[0]:.6f} {pos[1]:.6f} {pos[2]:.6f}\\n\")\n"
   ]
  },
  {
   "cell_type": "code",
   "execution_count": 35,
   "metadata": {},
   "outputs": [],
   "source": [
    "# Lennard-Jones potential parameters for Argon\n",
    "sigma = 3.4  # in Angstroms\n",
    "epsilon = 0.238  # in kcal/mol\n",
    "\n",
    "# Simulation parameters\n",
    "temperature = 200.0  # Temperature in Kelvin\n",
    "r_cut = 2.5 * sigma  # Cutoff distance, scaled by sigma\n",
    "num_steps = 10000  # Number of Monte Carlo steps\n",
    "dr_max = 0.1 * sigma  # Maximum displacement, scaled by sigma\n",
    "box_length = 10.0  # Box dimension in Angstroms"
   ]
  },
  {
   "cell_type": "code",
   "execution_count": 36,
   "metadata": {},
   "outputs": [],
   "source": [
    "input_file = 'argons.xyz'\n",
    "output_file = 'trajectory_out.xyz'\n",
    "atom_types, positions = read_xyz(input_file)\n",
    "num_particles = len(atom_types)"
   ]
  },
  {
   "cell_type": "code",
   "execution_count": 37,
   "metadata": {},
   "outputs": [],
   "source": [
    "for step in range(1, num_steps + 1):\n",
    "    i = np.random.randint(num_particles)\n",
    "    old_position = positions[i].copy()\n",
    "    old_energy = total_energy(positions, num_particles, box_length, sigma, epsilon, r_cut)\n",
    "\n",
    "    # Trial move\n",
    "    positions[i] += dr_max * (np.random.rand(3) - 0.5)\n",
    "    positions[i] = positions[i] - box_length * np.rint(positions[i] / box_length)  # PBC\n",
    "\n",
    "    new_energy = total_energy(positions, num_particles, box_length, sigma, epsilon, r_cut)\n",
    "    delta_energy = new_energy - old_energy\n",
    "\n",
    "    # Metropolis criterion\n",
    "    if np.random.rand() < np.exp(-delta_energy / (1.38064852e-23 * temperature / 1.9872041e-3)):\n",
    "        energy = new_energy\n",
    "    else:\n",
    "        positions[i] = old_position  # Reject move\n",
    "\n",
    "    # Write positions to the output file after each step\n",
    "    if step%10==0:\n",
    "        write_xyz(output_file, atom_types, positions, step, energy)"
   ]
  },
  {
   "cell_type": "code",
   "execution_count": null,
   "metadata": {},
   "outputs": [],
   "source": []
  }
 ],
 "metadata": {
  "kernelspec": {
   "display_name": "Python 3",
   "language": "python",
   "name": "python3"
  },
  "language_info": {
   "codemirror_mode": {
    "name": "ipython",
    "version": 3
   },
   "file_extension": ".py",
   "mimetype": "text/x-python",
   "name": "python",
   "nbconvert_exporter": "python",
   "pygments_lexer": "ipython3",
   "version": "3.9.18"
  }
 },
 "nbformat": 4,
 "nbformat_minor": 2
}
