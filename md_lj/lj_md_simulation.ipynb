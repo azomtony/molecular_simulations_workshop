{
 "cells": [
  {
   "cell_type": "code",
   "execution_count": 2,
   "metadata": {},
   "outputs": [],
   "source": [
    "import numpy as np\n",
    "import warnings\n",
    "warnings.filterwarnings(\"ignore\",category=RuntimeWarning)"
   ]
  },
  {
   "cell_type": "code",
   "execution_count": 3,
   "metadata": {},
   "outputs": [],
   "source": [
    "# Function to compute the Lennard-Jones potential and force\n",
    "def lj_potential_and_force(r, sigma, epsilon):\n",
    "    sr6 = (sigma / r) ** 6\n",
    "    sr12 = sr6 ** 2\n",
    "    potential = 4 * epsilon * (sr12 - sr6)\n",
    "    force = 24 * epsilon * (2 * sr12 - sr6) / r\n",
    "    return potential, force"
   ]
  },
  {
   "cell_type": "code",
   "execution_count": 4,
   "metadata": {},
   "outputs": [],
   "source": [
    "# Function to compute the total potential energy and forces\n",
    "def compute_forces(positions, num_particles, box_length, sigma, epsilon, r_cut):\n",
    "    forces = np.zeros_like(positions)\n",
    "    potential_energy = 0.0\n",
    "    for i in range(num_particles):\n",
    "        for j in range(i + 1, num_particles):\n",
    "            # Minimum image convention\n",
    "            rij = positions[i] - positions[j]\n",
    "            rij = rij - box_length * np.rint(rij / box_length)\n",
    "            r2 = np.dot(rij, rij)\n",
    "            if r2 < r_cut ** 2:\n",
    "                r = np.sqrt(r2)\n",
    "                potential, force = lj_potential_and_force(r, sigma, epsilon)\n",
    "                potential_energy += potential\n",
    "                force_vector = force * rij / r\n",
    "                forces[i] += force_vector\n",
    "                forces[j] -= force_vector\n",
    "    return potential_energy, forces"
   ]
  },
  {
   "cell_type": "code",
   "execution_count": 13,
   "metadata": {},
   "outputs": [],
   "source": [
    "# Function to read XYZ file\n",
    "def read_xyz(file_path):\n",
    "    with open(file_path, 'r') as f:\n",
    "        lines = f.readlines()\n",
    "\n",
    "    num_particles = int(lines[0].strip())\n",
    "    positions = []\n",
    "    for line in lines[2:2+num_particles]:\n",
    "        _, x, y, z = line.split()\n",
    "        positions.append([float(x), float(y), float(z)])\n",
    "    \n",
    "    positions = np.array(positions)\n",
    "    return positions, num_particles"
   ]
  },
  {
   "cell_type": "code",
   "execution_count": 14,
   "metadata": {},
   "outputs": [],
   "source": [
    "# Function to write XYZ file\n",
    "def write_xyz(file_path, positions, step):\n",
    "    with open(file_path, 'a') as f:\n",
    "        f.write(f\"{len(positions)}\\n\")\n",
    "        f.write(f\"Step {step}\\n\")\n",
    "        for pos in positions:\n",
    "            f.write(f\"Ar {pos[0]} {pos[1]} {pos[2]}\\n\")"
   ]
  },
  {
   "cell_type": "code",
   "execution_count": 7,
   "metadata": {},
   "outputs": [],
   "source": [
    "# Function to write energy data\n",
    "def write_energy(file_path, step, potential_energy, kinetic_energy, total_energy):\n",
    "    with open(file_path, 'a') as f:\n",
    "        f.write(f\"Step {step}, Potential Energy: {potential_energy:.4f}, Kinetic Energy: {kinetic_energy:.4f}, Total Energy: {total_energy:.4f}\\n\")"
   ]
  },
  {
   "cell_type": "code",
   "execution_count": 8,
   "metadata": {},
   "outputs": [],
   "source": [
    "# Velocity Verlet integration\n",
    "def velocity_verlet(positions, velocities, forces, num_particles, box_length, time_step, sigma, epsilon, r_cut):\n",
    "    positions += velocities * time_step + 0.5 * forces * time_step ** 2\n",
    "    positions = positions % box_length  # Apply periodic boundary conditions\n",
    "    potential_energy, new_forces = compute_forces(positions, num_particles, box_length, sigma, epsilon, r_cut)\n",
    "    velocities += 0.5 * (forces + new_forces) * time_step\n",
    "    return positions, velocities, new_forces, potential_energy"
   ]
  },
  {
   "cell_type": "code",
   "execution_count": 9,
   "metadata": {},
   "outputs": [],
   "source": [
    "#Parameter Initialization\n",
    "sigma = 3.4  # in Angstroms\n",
    "epsilon = 0.238  # in kcal/mol\n",
    "\n",
    "# Simulation parameters\n",
    "temperature = 100.0  # Temperature in Kelvin\n",
    "r_cut = 2.5 * sigma  # Cutoff distance, scaled by sigma\n",
    "kB = 1.9872041e-3  # Boltzmann constant in kcal/(mol*K)\n",
    "\n",
    "# MD simulation parameters\n",
    "num_particles = 100\n",
    "box_length = 10.0  # Angstroms\n",
    "time_step = 0.001  # Picoseconds\n",
    "num_steps = 100  # Total number of steps\n",
    "temperature = 120.0  # Kelvin"
   ]
  },
  {
   "cell_type": "code",
   "execution_count": 15,
   "metadata": {},
   "outputs": [],
   "source": [
    "#Initialize velocities\n",
    "positions, num_particles= read_xyz('argons.xyz')\n",
    "velocities = np.random.randn(num_particles, 3)\n",
    "velocities -= np.mean(velocities, axis=0)  # Zero total momentum\n",
    "velocities *= np.sqrt(kB * temperature / epsilon)  # Scale velocities to match the desired temperature"
   ]
  },
  {
   "cell_type": "code",
   "execution_count": 16,
   "metadata": {},
   "outputs": [],
   "source": [
    "# Output files\n",
    "xyz_output_file = 'md_trajectory.xyz'\n",
    "energy_output_file = 'md_energy.txt'\n",
    "\n",
    "# Clear the output files if they already exist\n",
    "open(xyz_output_file, 'w').close()\n",
    "open(energy_output_file, 'w').close()"
   ]
  },
  {
   "cell_type": "code",
   "execution_count": 17,
   "metadata": {},
   "outputs": [
    {
     "name": "stdout",
     "output_type": "stream",
     "text": [
      "Step 0/100, Total Energy: 43108.1942\n",
      "Step 1/100, Total Energy: 45100.6800\n",
      "Step 2/100, Total Energy: 45493.1230\n",
      "Step 3/100, Total Energy: 45556.6797\n",
      "Step 4/100, Total Energy: 45580.3956\n",
      "Step 5/100, Total Energy: 45603.5487\n",
      "Step 6/100, Total Energy: 45610.4358\n",
      "Step 7/100, Total Energy: 45596.9886\n",
      "Step 8/100, Total Energy: 45581.9245\n",
      "Step 9/100, Total Energy: 45575.1628\n",
      "Step 10/100, Total Energy: 45576.7030\n",
      "Step 11/100, Total Energy: 45582.2446\n",
      "Step 12/100, Total Energy: 45585.7123\n",
      "Step 13/100, Total Energy: 45584.4223\n",
      "Step 14/100, Total Energy: 45580.4927\n",
      "Step 15/100, Total Energy: 45575.8063\n",
      "Step 16/100, Total Energy: 45567.5959\n",
      "Step 17/100, Total Energy: 45546.1500\n",
      "Step 18/100, Total Energy: 45496.2612\n",
      "Step 19/100, Total Energy: 45463.2439\n",
      "Step 20/100, Total Energy: 45702.0950\n",
      "Step 21/100, Total Energy: 45694.4124\n",
      "Step 22/100, Total Energy: 45459.9704\n",
      "Step 23/100, Total Energy: 45493.5917\n",
      "Step 24/100, Total Energy: 45541.0380\n",
      "Step 25/100, Total Energy: 45560.3275\n",
      "Step 26/100, Total Energy: 45568.0938\n",
      "Step 27/100, Total Energy: 45576.9384\n",
      "Step 28/100, Total Energy: 45590.7172\n",
      "Step 29/100, Total Energy: 45599.6279\n",
      "Step 30/100, Total Energy: 45593.0704\n",
      "Step 31/100, Total Energy: 45579.6197\n",
      "Step 32/100, Total Energy: 45571.5640\n",
      "Step 33/100, Total Energy: 45569.5862\n",
      "Step 34/100, Total Energy: 45569.5416\n",
      "Step 35/100, Total Energy: 45568.6234\n",
      "Step 36/100, Total Energy: 45565.7139\n",
      "Step 37/100, Total Energy: 45561.3622\n",
      "Step 38/100, Total Energy: 45560.8238\n",
      "Step 39/100, Total Energy: 45577.1673\n",
      "Step 40/100, Total Energy: 45609.9611\n",
      "Step 41/100, Total Energy: 45615.2174\n",
      "Step 42/100, Total Energy: 45587.4686\n",
      "Step 43/100, Total Energy: 45573.9323\n",
      "Step 44/100, Total Energy: 45576.2183\n",
      "Step 45/100, Total Energy: 45576.7520\n",
      "Step 46/100, Total Energy: 45575.2957\n",
      "Step 47/100, Total Energy: 45577.7572\n",
      "Step 48/100, Total Energy: 45582.0297\n",
      "Step 49/100, Total Energy: 45582.1061\n",
      "Step 50/100, Total Energy: 45577.8409\n",
      "Step 51/100, Total Energy: 45573.9064\n",
      "Step 52/100, Total Energy: 45572.8478\n",
      "Step 53/100, Total Energy: 45574.0038\n",
      "Step 54/100, Total Energy: 45575.9183\n",
      "Step 55/100, Total Energy: 45577.6304\n",
      "Step 56/100, Total Energy: 45578.6682\n",
      "Step 57/100, Total Energy: 45578.6956\n",
      "Step 58/100, Total Energy: 45576.8631\n",
      "Step 59/100, Total Energy: 45570.4521\n",
      "Step 60/100, Total Energy: 45551.7178\n",
      "Step 61/100, Total Energy: 45505.7735\n",
      "Step 62/100, Total Energy: 45454.9987\n",
      "Step 63/100, Total Energy: 45637.5379\n",
      "Step 64/100, Total Energy: 45742.4015\n",
      "Step 65/100, Total Energy: 45466.9356\n",
      "Step 66/100, Total Energy: 45477.5300\n",
      "Step 67/100, Total Energy: 45522.4645\n",
      "Step 68/100, Total Energy: 45531.4441\n",
      "Step 69/100, Total Energy: 45542.3887\n",
      "Step 70/100, Total Energy: 45621.0601\n",
      "Step 71/100, Total Energy: 45665.5030\n",
      "Step 72/100, Total Energy: 45567.5425\n",
      "Step 73/100, Total Energy: 45502.4884\n",
      "Step 74/100, Total Energy: 45449.0170\n",
      "Step 75/100, Total Energy: 45404.9045\n",
      "Step 76/100, Total Energy: 45728.6002\n",
      "Step 77/100, Total Energy: 45642.4325\n",
      "Step 78/100, Total Energy: 45400.7085\n",
      "Step 79/100, Total Energy: 45500.7949\n",
      "Step 80/100, Total Energy: 45595.6442\n",
      "Step 81/100, Total Energy: 45613.1969\n",
      "Step 82/100, Total Energy: 45568.6729\n",
      "Step 83/100, Total Energy: 45540.6824\n",
      "Step 84/100, Total Energy: 45545.2949\n",
      "Step 85/100, Total Energy: 45563.4684\n",
      "Step 86/100, Total Energy: 45581.2953\n",
      "Step 87/100, Total Energy: 45588.2363\n",
      "Step 88/100, Total Energy: 45584.2817\n",
      "Step 89/100, Total Energy: 45577.7773\n",
      "Step 90/100, Total Energy: 45572.7234\n",
      "Step 91/100, Total Energy: 45572.0631\n",
      "Step 92/100, Total Energy: 45583.6990\n",
      "Step 93/100, Total Energy: 45604.3247\n",
      "Step 94/100, Total Energy: 45604.2077\n",
      "Step 95/100, Total Energy: 45578.1393\n",
      "Step 96/100, Total Energy: 45556.9487\n",
      "Step 97/100, Total Energy: 45551.9118\n",
      "Step 98/100, Total Energy: 45560.5624\n",
      "Step 99/100, Total Energy: 45580.5494\n"
     ]
    }
   ],
   "source": [
    "# Run the MD simulation\n",
    "forces = np.zeros_like(positions)\n",
    "potential_energy, forces = compute_forces(positions, num_particles, box_length, sigma, epsilon, r_cut)\n",
    "\n",
    "for step in range(num_steps):\n",
    "    positions, velocities, forces, potential_energy = velocity_verlet(\n",
    "        positions, velocities, forces, num_particles, box_length, time_step, sigma, epsilon, r_cut)\n",
    "    \n",
    "    kinetic_energy = 0.5 * np.sum(velocities ** 2) * (epsilon / (kB * temperature))\n",
    "    total_energy = potential_energy + kinetic_energy\n",
    "    \n",
    "    # Write the positions to the XYZ file\n",
    "    write_xyz(xyz_output_file, positions, step)\n",
    "    \n",
    "    # Write the energy data to the text file\n",
    "    write_energy(energy_output_file, step, potential_energy, kinetic_energy, total_energy)\n",
    "    \n",
    "    if step % 1 == 0:\n",
    "        print(f\"Step {step}/{num_steps}, Total Energy: {total_energy:.4f}\")"
   ]
  },
  {
   "cell_type": "code",
   "execution_count": 19,
   "metadata": {},
   "outputs": [
    {
     "data": {
      "application/vnd.jupyter.widget-view+json": {
       "model_id": "a279dfdc6b944e5aa00fbc16277347e3",
       "version_major": 2,
       "version_minor": 0
      },
      "text/plain": [
       "NGLWidget(max_frame=99)"
      ]
     },
     "metadata": {},
     "output_type": "display_data"
    }
   ],
   "source": [
    "import mdtraj as md\n",
    "import nglview as nv\n",
    "\n",
    "# Define the atom types as needed\n",
    "num_atoms = 35  # Replace with the actual number of atoms in your XYZ file\n",
    "atom_types = ['Ar'] * num_atoms  # Adjust this line if your atoms are different\n",
    "\n",
    "# Create a simple topology for the XYZ file\n",
    "top = md.Topology()\n",
    "chain = top.add_chain()\n",
    "residue = top.add_residue(\"RES\", chain)\n",
    "for atom_type in atom_types:\n",
    "    top.add_atom(atom_type, md.element.Element.getBySymbol(atom_type), residue)\n",
    "\n",
    "# Load the XYZ file with the created topology\n",
    "traj = md.load_xyz('md_trajectory.xyz', top=top)\n",
    "# Visualize the trajectory using nglview\n",
    "view = nv.show_mdtraj(traj)\n",
    "view.clear_representations()\n",
    "view.add_spacefill(radiusType='radius', radius=0.5)\n",
    "view"
   ]
  },
  {
   "cell_type": "code",
   "execution_count": null,
   "metadata": {},
   "outputs": [],
   "source": []
  }
 ],
 "metadata": {
  "kernelspec": {
   "display_name": "base",
   "language": "python",
   "name": "python3"
  },
  "language_info": {
   "codemirror_mode": {
    "name": "ipython",
    "version": 3
   },
   "file_extension": ".py",
   "mimetype": "text/x-python",
   "name": "python",
   "nbconvert_exporter": "python",
   "pygments_lexer": "ipython3",
   "version": "3.9.18"
  }
 },
 "nbformat": 4,
 "nbformat_minor": 2
}
