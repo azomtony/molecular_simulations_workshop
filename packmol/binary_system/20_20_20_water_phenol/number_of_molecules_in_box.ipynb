{
 "cells": [
  {
   "cell_type": "code",
   "execution_count": 1,
   "metadata": {},
   "outputs": [],
   "source": [
    "def calculate_number_of_molecules(volume_box_A3, density1, molecular_weight1, volume_fraction1, density2, molecular_weight2):\n",
    "    \"\"\"\n",
    "    Calculate the number of molecules of two substances in a box for an MD simulation.\n",
    "\n",
    "    Parameters:\n",
    "    - volume_box_A3: Volume of the box in Å^3\n",
    "    - density1: Density of the first substance in g/cm^3\n",
    "    - molecular_weight1: Molecular weight of the first substance in g/mol\n",
    "    - volume_fraction1: Volume fraction of the first substance (0 to 1)\n",
    "    - density2: Density of the second substance in g/cm^3\n",
    "    - molecular_weight2: Molecular weight of the second substance in g/mol\n",
    "\n",
    "    Returns:\n",
    "    - number_of_molecules1: Number of molecules of the first substance in the box\n",
    "    - number_of_molecules2: Number of molecules of the second substance in the box\n",
    "    \"\"\"\n",
    "    avogadro_number = 6.022e23  # Avogadro's number in molecules/mol\n",
    "\n",
    "    # Volume of each substance in Å^3\n",
    "    volume1_A3 = volume_box_A3 * volume_fraction1\n",
    "    volume2_A3 = volume_box_A3 * (1 - volume_fraction1)\n",
    "\n",
    "    # Converting volumes from Å^3 to cm^3\n",
    "    volume1_cm3 = volume1_A3 * 1e-24  # 1 Å^3 = 1e-24 cm^3\n",
    "    volume2_cm3 = volume2_A3 * 1e-24\n",
    "\n",
    "    # Calculating mass of each substance in the box in grams\n",
    "    mass1_g = density1 * volume1_cm3\n",
    "    mass2_g = density2 * volume2_cm3\n",
    "\n",
    "    # Calculating moles of each substance in the box\n",
    "    moles1 = mass1_g / molecular_weight1\n",
    "    moles2 = mass2_g / molecular_weight2\n",
    "\n",
    "    # Calculate number of molecules\n",
    "    number_of_molecules1 = moles1 * avogadro_number\n",
    "    number_of_molecules2 = moles2 * avogadro_number\n",
    "\n",
    "    return number_of_molecules1, number_of_molecules2\n",
    "\n"
   ]
  },
  {
   "cell_type": "code",
   "execution_count": 2,
   "metadata": {},
   "outputs": [
    {
     "name": "stdout",
     "output_type": "stream",
     "text": [
      "Number of water molecules in a 8000 Å^3 box: 133.71\n",
      "Number of phenol molecules in a 8000 Å^3 box: 27.39\n"
     ]
    }
   ],
   "source": [
    "volume_box_A3 = 20 * 20 * 20  # in Å^3\n",
    "density_water = 1.0  # in g/cm^3 (density of water)\n",
    "molecular_weight_water = 18.015  # in g/mol (molecular weight of water)\n",
    "density_phenol = 1.07  # in g/cm^3 (density of phenol)\n",
    "molecular_weight_phenol = 94.11  # in g/mol (molecular weight of phenol)\n",
    "volume_fraction_water = 0.5  # 50% water and 50% phenol\n",
    "\n",
    "number_of_molecules_water, number_of_molecules_phenol = calculate_number_of_molecules(\n",
    "    volume_box_A3, density_water, molecular_weight_water, volume_fraction_water, density_phenol, molecular_weight_phenol)\n",
    "\n",
    "print(f\"Number of water molecules in a {volume_box_A3} Å^3 box: {number_of_molecules_water:.2f}\")\n",
    "print(f\"Number of phenol molecules in a {volume_box_A3} Å^3 box: {number_of_molecules_phenol:.2f}\")"
   ]
  },
  {
   "cell_type": "code",
   "execution_count": null,
   "metadata": {},
   "outputs": [],
   "source": []
  }
 ],
 "metadata": {
  "kernelspec": {
   "display_name": "Python 3",
   "language": "python",
   "name": "python3"
  },
  "language_info": {
   "codemirror_mode": {
    "name": "ipython",
    "version": 3
   },
   "file_extension": ".py",
   "mimetype": "text/x-python",
   "name": "python",
   "nbconvert_exporter": "python",
   "pygments_lexer": "ipython3",
   "version": "3.9.18"
  }
 },
 "nbformat": 4,
 "nbformat_minor": 2
}
