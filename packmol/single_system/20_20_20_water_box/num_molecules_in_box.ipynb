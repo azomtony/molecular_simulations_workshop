{
 "cells": [
  {
   "cell_type": "code",
   "execution_count": 2,
   "metadata": {},
   "outputs": [],
   "source": [
    "def calculate_number_of_molecules(volume_box_A3, density, molecular_weight):\n",
    "    \"\"\"\n",
    "    Calculate the number of molecules in a box for an MD simulation.\n",
    "\n",
    "    Parameters:\n",
    "    - volume_box_A3: Volume of the box in Å^3\n",
    "    - density: Density of the substance in g/cm^3\n",
    "    - molecular_weight: Molecular weight of the substance in g/mol\n",
    "\n",
    "    Returns:\n",
    "    - number_of_molecules: Number of molecules in the box\n",
    "    \"\"\"\n",
    "    avogadro_number = 6.022e23  # Avogadro's number in molecules/mol\n",
    "\n",
    "    # Converting volume from Å^3 to cm^3\n",
    "    volume_box_cm3 = volume_box_A3 * 1e-24  # 1 Å^3 = 1e-24 cm^3\n",
    "\n",
    "    # Calculating mass of the substance in the box in grams\n",
    "    mass_substance_g = density * volume_box_cm3\n",
    "\n",
    "    # Calculating moles of the substance in the box\n",
    "    moles_substance = mass_substance_g / molecular_weight\n",
    "\n",
    "    # Calculating number of molecules\n",
    "    number_of_molecules = moles_substance * avogadro_number\n",
    "\n",
    "    return number_of_molecules\n"
   ]
  },
  {
   "cell_type": "code",
   "execution_count": 3,
   "metadata": {},
   "outputs": [
    {
     "name": "stdout",
     "output_type": "stream",
     "text": [
      "Number of molecules in a 8000 Å^3 box: 267.42\n"
     ]
    }
   ],
   "source": [
    "#For Water\n",
    "volume_box_A3 = 20 * 20 * 20  # in Å^3\n",
    "density_water = 1.0  # in g/cm^3 (density of water)\n",
    "molecular_weight_water = 18.015  # in g/mol (molecular weight of water)\n",
    "number_of_molecules = calculate_number_of_molecules(20*20*20, 1, 18.015)\n",
    "print(f\"Number of molecules in a {volume_box_A3} Å^3 box: {number_of_molecules:.2f}\")"
   ]
  },
  {
   "cell_type": "code",
   "execution_count": null,
   "metadata": {},
   "outputs": [],
   "source": []
  }
 ],
 "metadata": {
  "kernelspec": {
   "display_name": "Python 3",
   "language": "python",
   "name": "python3"
  },
  "language_info": {
   "codemirror_mode": {
    "name": "ipython",
    "version": 3
   },
   "file_extension": ".py",
   "mimetype": "text/x-python",
   "name": "python",
   "nbconvert_exporter": "python",
   "pygments_lexer": "ipython3",
   "version": "3.9.18"
  }
 },
 "nbformat": 4,
 "nbformat_minor": 2
}
